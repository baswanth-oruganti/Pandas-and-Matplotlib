{
 "cells": [
  {
   "cell_type": "markdown",
   "metadata": {},
   "source": [
    "# Import relevant modules"
   ]
  },
  {
   "cell_type": "code",
   "execution_count": 32,
   "metadata": {},
   "outputs": [],
   "source": [
    "import sys\n",
    "import math\n",
    "import numpy as np\n",
    "import pandas as pd\n",
    "import matplotlib.pyplot as plt"
   ]
  },
  {
   "cell_type": "markdown",
   "metadata": {},
   "source": [
    "# Create a Molecule class with Cartesian coordinates as its attribute\n",
    "Use Pandas DataFrame object to read Cartesian coordinates $\\newline$\n",
    "Define methods for calculating bond length, bond angle and dihedral angle"
   ]
  },
  {
   "cell_type": "code",
   "execution_count": 33,
   "metadata": {},
   "outputs": [],
   "source": [
    "class Molecule:\n",
    "    \n",
    "    def __init__(self,filename):\n",
    "        self.df=pd.read_csv(filename,sep=\"\\s+\",header=None,skiprows=2)\n",
    "        self.df.columns=['Atom','x','y','z']\n",
    "        self.df.index=[i+1 for i in range(len(self.df))]\n",
    "        \n",
    "        \n",
    "    def bond_length(self,p,q):\n",
    "    \n",
    "        a=self.df.loc[int(p)][1:]\n",
    "        b=self.df.loc[int(q)][1:]\n",
    "    \n",
    "        return round(np.linalg.norm(b-a),2)\n",
    "    \n",
    "    \n",
    "    def bond_angle(self,p,q,r):\n",
    "   \n",
    "        a=self.df.loc[int(p)][1:]\n",
    "        b=self.df.loc[int(q)][1:]\n",
    "        c=self.df.loc[int(r)][1:]\n",
    "        # step (i)\n",
    "        ab=np.array(b-a).astype(float)\n",
    "        bc=np.array(c-b).astype(float)\n",
    "        # step (ii)\n",
    "        cos_teta=np.dot(ab,bc)/(np.linalg.norm(ab)*np.linalg.norm(bc))\n",
    "    \n",
    "        return round(np.degrees(np.arccos(cos_teta)),1)\n",
    "    \n",
    "    \n",
    "    def dihedral_angle(self,p,q,r,s):\n",
    "    \n",
    "        a=self.df.loc[int(p)][1:]\n",
    "        b=self.df.loc[int(q)][1:]\n",
    "        c=self.df.loc[int(r)][1:]\n",
    "        d=self.df.loc[int(s)][1:]\n",
    "        # step (i)\n",
    "        ab=np.array(b-a).astype(float)\n",
    "        bc=np.array(c-b).astype(float)\n",
    "        cd=np.array(d-c).astype(float)\n",
    "        # step (ii)\n",
    "        nor1=np.cross(ab,bc)\n",
    "        nor2=np.cross(bc,cd)\n",
    "        # step (iii)\n",
    "        cos_teta=np.dot(nor1,nor2)/(np.linalg.norm(nor1)*np.linalg.norm(nor2))\n",
    "    \n",
    "        return round(np.degrees(np.arccos(cos_teta)),1)\n",
    "    "
   ]
  },
  {
   "cell_type": "markdown",
   "metadata": {},
   "source": [
    "# Calculation of bond length<br>\n",
    "Bond length between two atoms defined by Cartesian coordinates $\\vec{a}=(x_1,y_1,z_1)$ and $\\vec{b}=(x_2,y_2,z_2)$ is $\\newline$<br>\n",
    "$$\\sqrt{{(x_2-x_1)}^2+{(y_2-y_1)}^2+{(z_2-z_1)}^2}$$ <br>\n",
    "i.e., norm of the vector connecting two points"
   ]
  },
  {
   "cell_type": "code",
   "execution_count": 34,
   "metadata": {},
   "outputs": [],
   "source": [
    "    def bond_length(self,p,q):\n",
    "    \n",
    "        a=self.df.loc[int(p)][1:]\n",
    "        b=self.df.loc[int(q)][1:]\n",
    "    \n",
    "        return round(np.linalg.norm(b-a),2)"
   ]
  },
  {
   "cell_type": "markdown",
   "metadata": {},
   "source": [
    "# Calculation of bond angle<br>\n",
    "Bond angle between three atoms defined by Cartesian coordinates $\\vec{a}=(x_1,y_1,z_1)$, $\\vec{b}=(x_2,y_2,z_2)$ and $\\vec{c}=(x_3,y_3,z_3)$: $\\newline$<br>\n",
    "(i) We first define two vectors $\\vec{ab}$ and $\\vec{bc}$ as: $$\\vec{ab}=\\vec{b}-\\vec{a}$$ and $$\\vec{bc}=\\vec{c}-\\vec{b}$$ $\\newline$ <br>\n",
    "(ii) Cosine of the angle between the two vectors calculated as: $$\\frac{\\vec{ab}.\\vec{bc}}{||\\vec{ab}||.||\\vec{bc}||}$$"
   ]
  },
  {
   "cell_type": "code",
   "execution_count": 35,
   "metadata": {},
   "outputs": [],
   "source": [
    "    def bond_angle(self,p,q,r):\n",
    "   \n",
    "        a=self.df.loc[int(p)][1:]\n",
    "        b=self.df.loc[int(q)][1:]\n",
    "        c=self.df.loc[int(r)][1:]\n",
    "        # step (i)\n",
    "        ab=np.array(b-a).astype(float)\n",
    "        bc=np.array(c-b).astype(float)\n",
    "        # step (ii)\n",
    "        cos_teta=np.dot(ab,bc)/(np.linalg.norm(ab)*np.linalg.norm(bc))\n",
    "    \n",
    "        return round(np.degrees(np.arccos(cos_teta)),1)"
   ]
  },
  {
   "cell_type": "markdown",
   "metadata": {},
   "source": [
    "# Calculation of dihedral angle <br>\n",
    "Dihedral angle between the four atoms defined by Cartesian coordinates $\\vec{a}=(x_1,y_1,z_1)$, $\\vec{b}=(x_2,y_2,z_2)$, $\\vec{c}=(x_3,y_3,z_3)$ and $\\vec{d}=(x_4,y_4,z_4)$:  $\\newline$<br>\n",
    "(i) We first define three vectors $\\vec{ab}$ , $\\vec{bc}$ and $\\vec{cd}$ $\\newline$<br>\n",
    "(ii) Then we calculate normal vector to the plane containing $\\vec{a}, \\vec{b}$ and $\\vec{c}$ as well as for the plane containg $\\vec{b}$, $\\vec{c}$ and $\\vec{d}$ as: $\\newline$ $$\\vec{n1}=\\vec{ab}\\times\\vec{bc}$$ $$\\vec{n2}=\\vec{bc}\\times\\vec{cd}$$ $\\newline$<br>\n",
    "(ii) Cosine of the angle between the two normal vectors calculated as: $$\\frac{\\vec{n1}.\\vec{n2}}{||\\vec{n1}||.||\\vec{n2}||}$$"
   ]
  },
  {
   "cell_type": "code",
   "execution_count": 36,
   "metadata": {},
   "outputs": [],
   "source": [
    "    def dihedral_angle(self,p,q,r,s):\n",
    "    \n",
    "        a=self.df.loc[int(p)][1:]\n",
    "        b=self.df.loc[int(q)][1:]\n",
    "        c=self.df.loc[int(r)][1:]\n",
    "        d=self.df.loc[int(s)][1:]\n",
    "        # step (i)\n",
    "        ab=np.array(b-a).astype(float)\n",
    "        bc=np.array(c-b).astype(float)\n",
    "        cd=np.array(d-c).astype(float)\n",
    "        # step (ii)\n",
    "        nor1=np.cross(ab,bc)\n",
    "        nor2=np.cross(bc,cd)\n",
    "        # step (iii)\n",
    "        cos_teta=np.dot(nor1,nor2)/(np.linalg.norm(nor1)*np.linalg.norm(nor2))\n",
    "    \n",
    "        return round(np.degrees(np.arccos(cos_teta)),1)"
   ]
  },
  {
   "cell_type": "markdown",
   "metadata": {},
   "source": [
    "# Testing methods of Molecule class"
   ]
  },
  {
   "cell_type": "markdown",
   "metadata": {},
   "source": [
    "### First Instantiate a Molecule object"
   ]
  },
  {
   "cell_type": "code",
   "execution_count": 44,
   "metadata": {},
   "outputs": [],
   "source": [
    "x=Molecule('1.xyz')"
   ]
  },
  {
   "cell_type": "code",
   "execution_count": 45,
   "metadata": {},
   "outputs": [
    {
     "data": {
      "text/plain": [
       "3.38"
      ]
     },
     "execution_count": 45,
     "metadata": {},
     "output_type": "execute_result"
    }
   ],
   "source": [
    "x.bond_length(8,14)"
   ]
  },
  {
   "cell_type": "code",
   "execution_count": 46,
   "metadata": {},
   "outputs": [
    {
     "data": {
      "text/plain": [
       "136.3"
      ]
     },
     "execution_count": 46,
     "metadata": {},
     "output_type": "execute_result"
    }
   ],
   "source": [
    "x.bond_angle(8,12,14)"
   ]
  },
  {
   "cell_type": "code",
   "execution_count": 47,
   "metadata": {},
   "outputs": [
    {
     "data": {
      "text/plain": [
       "77.8"
      ]
     },
     "execution_count": 47,
     "metadata": {},
     "output_type": "execute_result"
    }
   ],
   "source": [
    "x.dihedral_angle(8,10,12,14)"
   ]
  },
  {
   "cell_type": "markdown",
   "metadata": {},
   "source": [
    "# References<br>\n",
    "1. https://sites.math.washington.edu/~king/coursedir/m445w04/notes/vector/equations.html $\\newline$<br>\n",
    "2. https://sites.math.washington.edu/~king/coursedir/m445w04/notes/vector/normals-planes.html#cross"
   ]
  }
 ],
 "metadata": {
  "kernelspec": {
   "display_name": "Python 3",
   "language": "python",
   "name": "python3"
  },
  "language_info": {
   "codemirror_mode": {
    "name": "ipython",
    "version": 3
   },
   "file_extension": ".py",
   "mimetype": "text/x-python",
   "name": "python",
   "nbconvert_exporter": "python",
   "pygments_lexer": "ipython3",
   "version": "3.8.5"
  }
 },
 "nbformat": 4,
 "nbformat_minor": 2
}
