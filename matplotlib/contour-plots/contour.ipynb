{
 "cells": [
  {
   "cell_type": "code",
   "execution_count": 257,
   "metadata": {},
   "outputs": [],
   "source": [
    "import sys\n",
    "import numpy as np\n",
    "import matplotlib.pyplot as plt\n",
    "from matplotlib import cm\n",
    "from mpl_toolkits.mplot3d import Axes3D\n",
    "import scipy.ndimage\n",
    "from scipy import interpolate\n",
    "import matplotlib.mlab as ml\n",
    "import matplotlib.tri as tri\n",
    "import matplotlib\n",
    "import pandas as pd\n",
    "from sklearn import preprocessing"
   ]
  },
  {
   "cell_type": "code",
   "execution_count": 258,
   "metadata": {},
   "outputs": [
    {
     "data": {
      "text/html": [
       "<div>\n",
       "<style scoped>\n",
       "    .dataframe tbody tr th:only-of-type {\n",
       "        vertical-align: middle;\n",
       "    }\n",
       "\n",
       "    .dataframe tbody tr th {\n",
       "        vertical-align: top;\n",
       "    }\n",
       "\n",
       "    .dataframe thead th {\n",
       "        text-align: right;\n",
       "    }\n",
       "</style>\n",
       "<table border=\"1\" class=\"dataframe\">\n",
       "  <thead>\n",
       "    <tr style=\"text-align: right;\">\n",
       "      <th></th>\n",
       "      <th>s(R)</th>\n",
       "      <th>z(R)</th>\n",
       "      <th>$\\Delta$G</th>\n",
       "    </tr>\n",
       "  </thead>\n",
       "  <tbody>\n",
       "    <tr>\n",
       "      <th>0</th>\n",
       "      <td>1.336852</td>\n",
       "      <td>-0.016966</td>\n",
       "      <td>220.129489</td>\n",
       "    </tr>\n",
       "    <tr>\n",
       "      <th>1</th>\n",
       "      <td>2.043065</td>\n",
       "      <td>-0.016966</td>\n",
       "      <td>220.129339</td>\n",
       "    </tr>\n",
       "    <tr>\n",
       "      <th>2</th>\n",
       "      <td>2.749278</td>\n",
       "      <td>-0.016966</td>\n",
       "      <td>220.129388</td>\n",
       "    </tr>\n",
       "    <tr>\n",
       "      <th>3</th>\n",
       "      <td>3.455491</td>\n",
       "      <td>-0.016966</td>\n",
       "      <td>220.129620</td>\n",
       "    </tr>\n",
       "    <tr>\n",
       "      <th>4</th>\n",
       "      <td>4.161705</td>\n",
       "      <td>-0.016966</td>\n",
       "      <td>220.129959</td>\n",
       "    </tr>\n",
       "    <tr>\n",
       "      <th>...</th>\n",
       "      <td>...</td>\n",
       "      <td>...</td>\n",
       "      <td>...</td>\n",
       "    </tr>\n",
       "    <tr>\n",
       "      <th>7590</th>\n",
       "      <td>79.020302</td>\n",
       "      <td>0.079521</td>\n",
       "      <td>220.129387</td>\n",
       "    </tr>\n",
       "    <tr>\n",
       "      <th>7591</th>\n",
       "      <td>79.726515</td>\n",
       "      <td>0.079521</td>\n",
       "      <td>220.129658</td>\n",
       "    </tr>\n",
       "    <tr>\n",
       "      <th>7592</th>\n",
       "      <td>80.432729</td>\n",
       "      <td>0.079521</td>\n",
       "      <td>220.129981</td>\n",
       "    </tr>\n",
       "    <tr>\n",
       "      <th>7593</th>\n",
       "      <td>81.138942</td>\n",
       "      <td>0.079521</td>\n",
       "      <td>220.130305</td>\n",
       "    </tr>\n",
       "    <tr>\n",
       "      <th>7594</th>\n",
       "      <td>81.845155</td>\n",
       "      <td>0.079521</td>\n",
       "      <td>220.130581</td>\n",
       "    </tr>\n",
       "  </tbody>\n",
       "</table>\n",
       "<p>7595 rows × 3 columns</p>\n",
       "</div>"
      ],
      "text/plain": [
       "           s(R)      z(R)   $\\Delta$G\n",
       "0      1.336852 -0.016966  220.129489\n",
       "1      2.043065 -0.016966  220.129339\n",
       "2      2.749278 -0.016966  220.129388\n",
       "3      3.455491 -0.016966  220.129620\n",
       "4      4.161705 -0.016966  220.129959\n",
       "...         ...       ...         ...\n",
       "7590  79.020302  0.079521  220.129387\n",
       "7591  79.726515  0.079521  220.129658\n",
       "7592  80.432729  0.079521  220.129981\n",
       "7593  81.138942  0.079521  220.130305\n",
       "7594  81.845155  0.079521  220.130581\n",
       "\n",
       "[7595 rows x 3 columns]"
      ]
     },
     "execution_count": 258,
     "metadata": {},
     "output_type": "execute_result"
    }
   ],
   "source": [
    "data=pd.read_csv(\"fes.dat\",header=None,sep=\"\\s+\",skiprows=9,usecols=[i for i in range(3)])\n",
    "data.columns = [\"s(R)\",\"z(R)\", f\"$\\Delta$G\"]\n",
    "data"
   ]
  },
  {
   "cell_type": "code",
   "execution_count": 259,
   "metadata": {},
   "outputs": [
    {
     "data": {
      "text/html": [
       "<div>\n",
       "<style scoped>\n",
       "    .dataframe tbody tr th:only-of-type {\n",
       "        vertical-align: middle;\n",
       "    }\n",
       "\n",
       "    .dataframe tbody tr th {\n",
       "        vertical-align: top;\n",
       "    }\n",
       "\n",
       "    .dataframe thead th {\n",
       "        text-align: right;\n",
       "    }\n",
       "</style>\n",
       "<table border=\"1\" class=\"dataframe\">\n",
       "  <thead>\n",
       "    <tr style=\"text-align: right;\">\n",
       "      <th></th>\n",
       "      <th>s(R)</th>\n",
       "      <th>z(R)</th>\n",
       "      <th>$\\Delta$G</th>\n",
       "    </tr>\n",
       "  </thead>\n",
       "  <tbody>\n",
       "    <tr>\n",
       "      <th>1360</th>\n",
       "      <td>1.336852</td>\n",
       "      <td>0.000577</td>\n",
       "      <td>209.477485</td>\n",
       "    </tr>\n",
       "    <tr>\n",
       "      <th>1361</th>\n",
       "      <td>2.043065</td>\n",
       "      <td>0.000577</td>\n",
       "      <td>207.072958</td>\n",
       "    </tr>\n",
       "    <tr>\n",
       "      <th>1362</th>\n",
       "      <td>2.749278</td>\n",
       "      <td>0.000577</td>\n",
       "      <td>205.735048</td>\n",
       "    </tr>\n",
       "    <tr>\n",
       "      <th>1363</th>\n",
       "      <td>3.455491</td>\n",
       "      <td>0.000577</td>\n",
       "      <td>205.740285</td>\n",
       "    </tr>\n",
       "    <tr>\n",
       "      <th>1364</th>\n",
       "      <td>4.161705</td>\n",
       "      <td>0.000577</td>\n",
       "      <td>206.936466</td>\n",
       "    </tr>\n",
       "    <tr>\n",
       "      <th>...</th>\n",
       "      <td>...</td>\n",
       "      <td>...</td>\n",
       "      <td>...</td>\n",
       "    </tr>\n",
       "    <tr>\n",
       "      <th>6775</th>\n",
       "      <td>79.726515</td>\n",
       "      <td>0.068996</td>\n",
       "      <td>213.832140</td>\n",
       "    </tr>\n",
       "    <tr>\n",
       "      <th>6776</th>\n",
       "      <td>80.432729</td>\n",
       "      <td>0.068996</td>\n",
       "      <td>215.084257</td>\n",
       "    </tr>\n",
       "    <tr>\n",
       "      <th>6777</th>\n",
       "      <td>81.138942</td>\n",
       "      <td>0.068996</td>\n",
       "      <td>216.351980</td>\n",
       "    </tr>\n",
       "    <tr>\n",
       "      <th>6778</th>\n",
       "      <td>81.845155</td>\n",
       "      <td>0.068996</td>\n",
       "      <td>217.485099</td>\n",
       "    </tr>\n",
       "    <tr>\n",
       "      <th>6779</th>\n",
       "      <td>82.551368</td>\n",
       "      <td>0.068996</td>\n",
       "      <td>218.396055</td>\n",
       "    </tr>\n",
       "  </tbody>\n",
       "</table>\n",
       "<p>4640 rows × 3 columns</p>\n",
       "</div>"
      ],
      "text/plain": [
       "           s(R)      z(R)   $\\Delta$G\n",
       "1360   1.336852  0.000577  209.477485\n",
       "1361   2.043065  0.000577  207.072958\n",
       "1362   2.749278  0.000577  205.735048\n",
       "1363   3.455491  0.000577  205.740285\n",
       "1364   4.161705  0.000577  206.936466\n",
       "...         ...       ...         ...\n",
       "6775  79.726515  0.068996  213.832140\n",
       "6776  80.432729  0.068996  215.084257\n",
       "6777  81.138942  0.068996  216.351980\n",
       "6778  81.845155  0.068996  217.485099\n",
       "6779  82.551368  0.068996  218.396055\n",
       "\n",
       "[4640 rows x 3 columns]"
      ]
     },
     "execution_count": 259,
     "metadata": {},
     "output_type": "execute_result"
    }
   ],
   "source": [
    "data=data[(data[\"s(R)\"]>1.2) & (data[\"s(R)\"]<83.0) & (data[\"z(R)\"]>0.0) & (data[\"z(R)\"]<0.07)]\n",
    "data"
   ]
  },
  {
   "cell_type": "code",
   "execution_count": 260,
   "metadata": {},
   "outputs": [
    {
     "name": "stderr",
     "output_type": "stream",
     "text": [
      "<ipython-input-260-3b95ca01dc1b>:1: SettingWithCopyWarning: \n",
      "A value is trying to be set on a copy of a slice from a DataFrame.\n",
      "Try using .loc[row_indexer,col_indexer] = value instead\n",
      "\n",
      "See the caveats in the documentation: https://pandas.pydata.org/pandas-docs/stable/user_guide/indexing.html#returning-a-view-versus-a-copy\n",
      "  data[\"Normalized s(R)\"] = (data[\"s(R)\"]-data[\"s(R)\"].min())/(data[\"s(R)\"].max()-data[\"s(R)\"].min())\n"
     ]
    },
    {
     "data": {
      "text/plain": [
       "[<matplotlib.lines.Line2D at 0x7f788b91c670>]"
      ]
     },
     "execution_count": 260,
     "metadata": {},
     "output_type": "execute_result"
    },
    {
     "data": {
      "image/png": "[encoded data removed]",
      "text/plain": [
       "<Figure size 432x288 with 1 Axes>"
      ]
     },
     "metadata": {
      "needs_background": "light"
     },
     "output_type": "display_data"
    }
   ],
   "source": [
    "data[\"Normalized s(R)\"] = (data[\"s(R)\"]-data[\"s(R)\"].min())/(data[\"s(R)\"].max()-data[\"s(R)\"].min())\n",
    "bins=pd.cut(data[\"Normalized s(R)\"],bins=25)\n",
    "grp=data.groupby(bins)\n",
    "g=grp[\"$\\Delta$G\"].min()\n",
    "s=grp[\"Normalized s(R)\"].mean()\n",
    "plt.plot(s,g)"
   ]
  },
  {
   "cell_type": "code",
   "execution_count": 261,
   "metadata": {},
   "outputs": [
    {
     "data": {
      "text/plain": [
       "Normalized s(R)\n",
       "(-0.001, 0.04]    50.765878\n",
       "(0.04, 0.08]      45.322034\n",
       "(0.08, 0.12]      46.390436\n",
       "(0.12, 0.16]      49.235103\n",
       "(0.16, 0.2]       64.411023\n",
       "(0.2, 0.24]       64.625278\n",
       "(0.24, 0.28]      71.649549\n",
       "(0.28, 0.32]      64.052826\n",
       "(0.32, 0.36]      29.806442\n",
       "(0.36, 0.4]       16.519039\n",
       "(0.4, 0.44]       19.740374\n",
       "(0.44, 0.48]      18.973468\n",
       "(0.48, 0.52]      16.666462\n",
       "(0.52, 0.56]      15.583782\n",
       "(0.56, 0.6]       12.824765\n",
       "(0.6, 0.64]        9.618389\n",
       "(0.64, 0.68]       6.348591\n",
       "(0.68, 0.72]       7.969076\n",
       "(0.72, 0.76]       9.852298\n",
       "(0.76, 0.8]       10.199402\n",
       "(0.8, 0.84]       10.919264\n",
       "(0.84, 0.88]       8.320979\n",
       "(0.88, 0.92]       0.632919\n",
       "(0.92, 0.96]       0.000000\n",
       "(0.96, 1.0]       27.013130\n",
       "Name: $\\Delta$G, dtype: float64"
      ]
     },
     "execution_count": 261,
     "metadata": {},
     "output_type": "execute_result"
    }
   ],
   "source": [
    "g"
   ]
  },
  {
   "cell_type": "code",
   "execution_count": 262,
   "metadata": {},
   "outputs": [
    {
     "data": {
      "text/plain": [
       "[5308    0.051452\n",
       " Name: z(R), dtype: float64,\n",
       " 5312    0.051452\n",
       " Name: z(R), dtype: float64,\n",
       " 5314    0.051452\n",
       " Name: z(R), dtype: float64,\n",
       " 5182    0.049698\n",
       " Name: z(R), dtype: float64,\n",
       " 5327    0.051452\n",
       " Name: z(R), dtype: float64,\n",
       " 5328    0.051452\n",
       " Name: z(R), dtype: float64,\n",
       " 5332    0.051452\n",
       " Name: z(R), dtype: float64,\n",
       " 5340    0.051452\n",
       " Name: z(R), dtype: float64,\n",
       " 5345    0.051452\n",
       " Name: z(R), dtype: float64,\n",
       " 5348    0.051452\n",
       " Name: z(R), dtype: float64,\n",
       " 5215    0.049698\n",
       " Name: z(R), dtype: float64,\n",
       " 5223    0.049698\n",
       " Name: z(R), dtype: float64,\n",
       " 5226    0.049698\n",
       " Name: z(R), dtype: float64,\n",
       " 5368    0.051452\n",
       " Name: z(R), dtype: float64,\n",
       " 5372    0.051452\n",
       " Name: z(R), dtype: float64,\n",
       " 5241    0.049698\n",
       " Name: z(R), dtype: float64,\n",
       " 5244    0.049698\n",
       " Name: z(R), dtype: float64,\n",
       " 5247    0.049698\n",
       " Name: z(R), dtype: float64,\n",
       " 5251    0.049698\n",
       " Name: z(R), dtype: float64,\n",
       " 5258    0.049698\n",
       " Name: z(R), dtype: float64,\n",
       " 5260    0.049698\n",
       " Name: z(R), dtype: float64,\n",
       " 5269    0.049698\n",
       " Name: z(R), dtype: float64,\n",
       " 5273    0.049698\n",
       " Name: z(R), dtype: float64,\n",
       " 5275    0.049698\n",
       " Name: z(R), dtype: float64,\n",
       " 5415    0.051452\n",
       " Name: z(R), dtype: float64]"
      ]
     },
     "execution_count": 262,
     "metadata": {},
     "output_type": "execute_result"
    }
   ],
   "source": [
    "[data[data[\"$\\Delta$G\"]==i]['z(R)'] for i in g]"
   ]
  },
  {
   "cell_type": "code",
   "execution_count": 263,
   "metadata": {},
   "outputs": [
    {
     "data": {
      "text/html": [
       "<div>\n",
       "<style scoped>\n",
       "    .dataframe tbody tr th:only-of-type {\n",
       "        vertical-align: middle;\n",
       "    }\n",
       "\n",
       "    .dataframe tbody tr th {\n",
       "        vertical-align: top;\n",
       "    }\n",
       "\n",
       "    .dataframe thead th {\n",
       "        text-align: right;\n",
       "    }\n",
       "</style>\n",
       "<table border=\"1\" class=\"dataframe\">\n",
       "  <thead>\n",
       "    <tr style=\"text-align: right;\">\n",
       "      <th></th>\n",
       "      <th>s(R)</th>\n",
       "      <th>z(R)</th>\n",
       "      <th>$\\Delta$G</th>\n",
       "      <th>Normalized s(R)</th>\n",
       "    </tr>\n",
       "  </thead>\n",
       "  <tbody>\n",
       "    <tr>\n",
       "      <th>1360</th>\n",
       "      <td>1.336852</td>\n",
       "      <td>0.000577</td>\n",
       "      <td>209.477485</td>\n",
       "      <td>0.000000</td>\n",
       "    </tr>\n",
       "    <tr>\n",
       "      <th>1361</th>\n",
       "      <td>2.043065</td>\n",
       "      <td>0.000577</td>\n",
       "      <td>207.072958</td>\n",
       "      <td>0.008696</td>\n",
       "    </tr>\n",
       "    <tr>\n",
       "      <th>1362</th>\n",
       "      <td>2.749278</td>\n",
       "      <td>0.000577</td>\n",
       "      <td>205.735048</td>\n",
       "      <td>0.017391</td>\n",
       "    </tr>\n",
       "    <tr>\n",
       "      <th>1363</th>\n",
       "      <td>3.455491</td>\n",
       "      <td>0.000577</td>\n",
       "      <td>205.740285</td>\n",
       "      <td>0.026087</td>\n",
       "    </tr>\n",
       "    <tr>\n",
       "      <th>1364</th>\n",
       "      <td>4.161705</td>\n",
       "      <td>0.000577</td>\n",
       "      <td>206.936466</td>\n",
       "      <td>0.034783</td>\n",
       "    </tr>\n",
       "    <tr>\n",
       "      <th>...</th>\n",
       "      <td>...</td>\n",
       "      <td>...</td>\n",
       "      <td>...</td>\n",
       "      <td>...</td>\n",
       "    </tr>\n",
       "    <tr>\n",
       "      <th>6775</th>\n",
       "      <td>79.726515</td>\n",
       "      <td>0.068996</td>\n",
       "      <td>213.832140</td>\n",
       "      <td>0.965217</td>\n",
       "    </tr>\n",
       "    <tr>\n",
       "      <th>6776</th>\n",
       "      <td>80.432729</td>\n",
       "      <td>0.068996</td>\n",
       "      <td>215.084257</td>\n",
       "      <td>0.973913</td>\n",
       "    </tr>\n",
       "    <tr>\n",
       "      <th>6777</th>\n",
       "      <td>81.138942</td>\n",
       "      <td>0.068996</td>\n",
       "      <td>216.351980</td>\n",
       "      <td>0.982609</td>\n",
       "    </tr>\n",
       "    <tr>\n",
       "      <th>6778</th>\n",
       "      <td>81.845155</td>\n",
       "      <td>0.068996</td>\n",
       "      <td>217.485099</td>\n",
       "      <td>0.991304</td>\n",
       "    </tr>\n",
       "    <tr>\n",
       "      <th>6779</th>\n",
       "      <td>82.551368</td>\n",
       "      <td>0.068996</td>\n",
       "      <td>218.396055</td>\n",
       "      <td>1.000000</td>\n",
       "    </tr>\n",
       "  </tbody>\n",
       "</table>\n",
       "<p>4640 rows × 4 columns</p>\n",
       "</div>"
      ],
      "text/plain": [
       "           s(R)      z(R)   $\\Delta$G  Normalized s(R)\n",
       "1360   1.336852  0.000577  209.477485         0.000000\n",
       "1361   2.043065  0.000577  207.072958         0.008696\n",
       "1362   2.749278  0.000577  205.735048         0.017391\n",
       "1363   3.455491  0.000577  205.740285         0.026087\n",
       "1364   4.161705  0.000577  206.936466         0.034783\n",
       "...         ...       ...         ...              ...\n",
       "6775  79.726515  0.068996  213.832140         0.965217\n",
       "6776  80.432729  0.068996  215.084257         0.973913\n",
       "6777  81.138942  0.068996  216.351980         0.982609\n",
       "6778  81.845155  0.068996  217.485099         0.991304\n",
       "6779  82.551368  0.068996  218.396055         1.000000\n",
       "\n",
       "[4640 rows x 4 columns]"
      ]
     },
     "execution_count": 263,
     "metadata": {},
     "output_type": "execute_result"
    }
   ],
   "source": [
    "x = data[\"Normalized s(R)\"]\n",
    "y = data[\"z(R)\"]\n",
    "z = data[f\"$\\Delta$G\"]\n",
    "x1 = data[\"Normalized s(R)\"]\n",
    "data"
   ]
  },
  {
   "cell_type": "code",
   "execution_count": 264,
   "metadata": {},
   "outputs": [],
   "source": [
    "breaks = np.linspace(0, 30, 11)"
   ]
  },
  {
   "cell_type": "code",
   "execution_count": 265,
   "metadata": {},
   "outputs": [],
   "source": [
    "matplotlib.rcParams['contour.negative_linestyle'] = 'solid'"
   ]
  },
  {
   "cell_type": "code",
   "execution_count": 266,
   "metadata": {},
   "outputs": [
    {
     "data": {
      "image/png": "[encoded data removed]",
      "text/plain": [
       "<Figure size 432x288 with 1 Axes>"
      ]
     },
     "metadata": {
      "needs_background": "light"
     },
     "output_type": "display_data"
    }
   ],
   "source": [
    "fig, ax = plt.subplots()"
   ]
  },
  {
   "cell_type": "code",
   "execution_count": 267,
   "metadata": {},
   "outputs": [
    {
     "data": {
      "text/plain": [
       "<matplotlib.colorbar.Colorbar at 0x7f788b801fd0>"
      ]
     },
     "execution_count": 267,
     "metadata": {},
     "output_type": "execute_result"
    }
   ],
   "source": [
    "ax.set_ylim([0.5,6.5])\n",
    "CS = ax.tricontour(x, y, z, breaks, linewidths=1.0, colors='k')\n",
    "manual_locations = [(0.17, 3.98), (0.275,4.0),(0.45, 4.16),(0.54,4.20),(0.66,4.2),(0.89,4.05)]\n",
    "ax.clabel(CS, fontsize=15, inline=True,inline_spacing=2,manual=manual_locations,colors='w', fmt='%1.1f',rightside_up=True)\n",
    "image = ax.tricontourf(x, y, z, breaks, cmap='seismic',vmin=0.0, vmax=30.0)\n",
    "fig.colorbar(mappable=image,ticks=breaks, orientation='vertical',ax=ax)"
   ]
  },
  {
   "cell_type": "code",
   "execution_count": 268,
   "metadata": {},
   "outputs": [
    {
     "data": {
      "text/plain": [
       "Text(3.200000000000003, 0.5, 'z(R)')"
      ]
     },
     "execution_count": 268,
     "metadata": {},
     "output_type": "execute_result"
    }
   ],
   "source": [
    "ax.set_xlabel('Normalized s(R)')\n",
    "ax.set_ylabel('z(R)')"
   ]
  },
  {
   "cell_type": "code",
   "execution_count": 270,
   "metadata": {},
   "outputs": [
    {
     "data": {
      "text/plain": [
       "<module 'matplotlib.pyplot' from '/home/baoraa/anaconda3/lib/python3.8/site-packages/matplotlib/pyplot.py'>"
      ]
     },
     "execution_count": 270,
     "metadata": {},
     "output_type": "execute_result"
    }
   ],
   "source": [
    "plt"
   ]
  },
  {
   "cell_type": "code",
   "execution_count": 271,
   "metadata": {},
   "outputs": [
    {
     "data": {
      "text/plain": [
       "<AxesSubplot:xlabel='Normalized s(R)', ylabel='z(R)'>"
      ]
     },
     "execution_count": 271,
     "metadata": {},
     "output_type": "execute_result"
    }
   ],
   "source": [
    "ax"
   ]
  },
  {
   "cell_type": "code",
   "execution_count": null,
   "metadata": {},
   "outputs": [],
   "source": []
  }
 ],
 "metadata": {
  "kernelspec": {
   "display_name": "Python 3",
   "language": "python",
   "name": "python3"
  },
  "language_info": {
   "codemirror_mode": {
    "name": "ipython",
    "version": 3
   },
   "file_extension": ".py",
   "mimetype": "text/x-python",
   "name": "python",
   "nbconvert_exporter": "python",
   "pygments_lexer": "ipython3",
   "version": "3.8.5"
  }
 },
 "nbformat": 4,
 "nbformat_minor": 2
}
