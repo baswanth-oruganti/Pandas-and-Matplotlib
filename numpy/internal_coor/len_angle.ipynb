{
 "cells": [
  {
   "cell_type": "markdown",
   "metadata": {},
   "source": [
    "# Import relevant modules"
   ]
  },
  {
   "cell_type": "code",
   "execution_count": 1,
   "metadata": {},
   "outputs": [],
   "source": [
    "import sys\n",
    "import math\n",
    "import numpy as np\n",
    "import pandas as pd\n",
    "import matplotlib.pyplot as plt"
   ]
  },
  {
   "cell_type": "code",
   "execution_count": 2,
   "metadata": {},
   "outputs": [],
   "source": [
    "filename=\"1.xyz\""
   ]
  },
  {
   "cell_type": "markdown",
   "metadata": {},
   "source": [
    "# Load the Cartesian coordinates into a Pandas DataFrame"
   ]
  },
  {
   "cell_type": "code",
   "execution_count": 21,
   "metadata": {},
   "outputs": [],
   "source": [
    "df=pd.read_csv(filename,sep=\"\\s+\",header=None,skiprows=2)\n",
    "df.columns=['Atom','x','y','z']\n",
    "df.index=[i+1 for i in range(len(df))]"
   ]
  },
  {
   "cell_type": "markdown",
   "metadata": {},
   "source": [
    "# Calculation of bond length\n",
    "Bond length between two atoms defined by Cartesian coordinates $\\vec{a}=(x_1,y_1,z_1)$ and $\\vec{b}=(x_2,y_2,z_2)$ is $\\newline$\n",
    "$$\\sqrt{{(x_2-x_1)}^2+{(y_2-y_1)}^2+{(z_2-z_1)}^2}$$ \n",
    "i.e., norm of the vector connecting two points"
   ]
  },
  {
   "cell_type": "code",
   "execution_count": 17,
   "metadata": {},
   "outputs": [],
   "source": [
    "def bond_length(p,q):\n",
    "\n",
    "    a=df.loc[int(p)][1:]\n",
    "    b=df.loc[int(q)][1:]\n",
    "    \n",
    "    return round(np.linalg.norm(b-a),2)"
   ]
  },
  {
   "cell_type": "code",
   "execution_count": 19,
   "metadata": {},
   "outputs": [
    {
     "data": {
      "text/plain": [
       "3.38"
      ]
     },
     "execution_count": 19,
     "metadata": {},
     "output_type": "execute_result"
    }
   ],
   "source": [
    "bond_length(8,14)"
   ]
  },
  {
   "cell_type": "markdown",
   "metadata": {},
   "source": [
    "# Calculation of bond angle\n",
    "Bond angle between three atoms defined by Cartesian coordinates $\\vec{a}=(x_1,y_1,z_1)$, $\\vec{b}=(x_2,y_2,z_2)$ and $\\vec{c}=(x_3,y_3,z_3)$: $\\newline$\n",
    "(i) We first define two vectors $\\vec{ab}$ and $\\vec{bc}$ as: $$\\vec{ab}=\\vec{b}-\\vec{a}$$ and $$\\vec{bc}=\\vec{c}-\\vec{b}$$ $\\newline$ \n",
    "(ii) Cosine of the angle between the two vectors calculated as: $$\\frac{\\vec{ab}.\\vec{bc}}{||\\vec{ab}||.||\\vec{bc}||}$$"
   ]
  },
  {
   "cell_type": "code",
   "execution_count": 15,
   "metadata": {},
   "outputs": [],
   "source": [
    "def bond_angle(p,q,r):\n",
    "   \n",
    "    a=df.loc[int(p)][1:]\n",
    "    b=df.loc[int(q)][1:]\n",
    "    c=df.loc[int(r)][1:]\n",
    "    # step (i)\n",
    "    ab=np.array(b-a).astype(float)\n",
    "    bc=np.array(c-b).astype(float)\n",
    "    # step (ii)\n",
    "    cos_teta=np.dot(ab,bc)/(np.linalg.norm(ab)*np.linalg.norm(bc))\n",
    "    \n",
    "    return round(np.degrees(np.arccos(cos_teta)),1)"
   ]
  },
  {
   "cell_type": "code",
   "execution_count": 16,
   "metadata": {},
   "outputs": [
    {
     "data": {
      "text/plain": [
       "66.3"
      ]
     },
     "execution_count": 16,
     "metadata": {},
     "output_type": "execute_result"
    }
   ],
   "source": [
    "bond_angle(8,10,12)"
   ]
  },
  {
   "cell_type": "markdown",
   "metadata": {},
   "source": [
    "# Calculation of dihedral angle \n",
    "Dihedral angle between the four atoms defined by Cartesian coordinates $\\vec{a}=(x_1,y_1,z_1)$, $\\vec{b}=(x_2,y_2,z_2)$, $\\vec{c}=(x_3,y_3,z_3)$ and $\\vec{d}=(x_4,y_4,z_4)$:  $\\newline$\n",
    "(i) We first define three vectors $\\vec{ab}$ , $\\vec{bc}$ and $\\vec{cd}$ $\\newline$\n",
    "(ii) Then we calculate normal vector to the plane containing $\\vec{a}, \\vec{b}$ and $\\vec{c}$ as well as for the plane containg $\\vec{b}$, $\\vec{c}$ and $\\vec{d}$ as: $\\newline$ $$\\vec{n1}=\\vec{ab}\\times\\vec{bc}$$ $$\\vec{n2}=\\vec{bc}\\times\\vec{cd}$$ $\\newline$\n",
    "(ii) Cosine of the angle between the two normal vectors calculated as: $$\\frac{\\vec{n1}.\\vec{n2}}{||\\vec{n1}||.||\\vec{n2}||}$$"
   ]
  },
  {
   "cell_type": "code",
   "execution_count": 11,
   "metadata": {},
   "outputs": [],
   "source": [
    "def dihedral_angle(p,q,r,s):\n",
    "    \n",
    "    a=df.loc[int(p)][1:]\n",
    "    b=df.loc[int(q)][1:]\n",
    "    c=df.loc[int(r)][1:]\n",
    "    d=df.loc[int(s)][1:]\n",
    "    # step (i)\n",
    "    ab=np.array(b-a).astype(float)\n",
    "    bc=np.array(c-b).astype(float)\n",
    "    cd=np.array(d-c).astype(float)\n",
    "    # step (ii)\n",
    "    nor1=np.cross(ab,bc)\n",
    "    nor2=np.cross(bc,cd)\n",
    "    # step (iii)\n",
    "    cos_teta=np.dot(nor1,nor2)/(np.linalg.norm(nor1)*np.linalg.norm(nor2))\n",
    "    \n",
    "    return round(np.degrees(np.arccos(cos_teta)),1)"
   ]
  },
  {
   "cell_type": "code",
   "execution_count": 14,
   "metadata": {},
   "outputs": [
    {
     "data": {
      "text/plain": [
       "41.6"
      ]
     },
     "execution_count": 14,
     "metadata": {},
     "output_type": "execute_result"
    }
   ],
   "source": [
    "dihedral_angle(10,8,12,11)"
   ]
  },
  {
   "cell_type": "markdown",
   "metadata": {},
   "source": [
    "# References\n",
    "1. https://sites.math.washington.edu/~king/coursedir/m445w04/notes/vector/equations.html $\\newline$\n",
    "2. https://sites.math.washington.edu/~king/coursedir/m445w04/notes/vector/normals-planes.html#cross"
   ]
  },
  {
   "cell_type": "code",
   "execution_count": null,
   "metadata": {},
   "outputs": [],
   "source": []
  }
 ],
 "metadata": {
  "kernelspec": {
   "display_name": "Python 3",
   "language": "python",
   "name": "python3"
  },
  "language_info": {
   "codemirror_mode": {
    "name": "ipython",
    "version": 3
   },
   "file_extension": ".py",
   "mimetype": "text/x-python",
   "name": "python",
   "nbconvert_exporter": "python",
   "pygments_lexer": "ipython3",
   "version": "3.8.5"
  }
 },
 "nbformat": 4,
 "nbformat_minor": 2
}
