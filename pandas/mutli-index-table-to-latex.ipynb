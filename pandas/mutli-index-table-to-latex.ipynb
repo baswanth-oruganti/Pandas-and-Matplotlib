{
 "cells": [
  {
   "cell_type": "code",
   "execution_count": 34,
   "metadata": {},
   "outputs": [],
   "source": [
    "import numpy as np\n",
    "import pandas as pd"
   ]
  },
  {
   "cell_type": "code",
   "execution_count": 45,
   "metadata": {},
   "outputs": [
    {
     "data": {
      "text/plain": [
       "'\\\\begin{tabular}{llrrrr}\\n\\\\toprule\\n   &      &     rand1 &     rand2 &     rand3 &     rand4 \\\\\\\\\\n\\\\midrule\\nB3LYP & SVP & -0.500725 &  0.442464 &  0.877651 &  0.855091 \\\\\\\\\\n   & TZVP &  0.594542 &  0.589846 &  1.180630 & -0.188972 \\\\\\\\\\nM062X & SVP & -0.073749 & -0.320843 & -0.245528 & -1.321795 \\\\\\\\\\n   & TZVP &  0.449212 & -1.399994 &  1.332403 & -0.009660 \\\\\\\\\\nPBE0 & SVP &  0.266755 & -0.094182 & -1.445592 &  1.915740 \\\\\\\\\\n   & TZVP & -0.596479 &  0.006909 & -1.844222 &  0.551327 \\\\\\\\\\nHF & SVP &  0.865826 & -1.272397 &  0.189112 &  0.233455 \\\\\\\\\\n   & TZVP & -0.051898 &  0.513370 &  0.174451 & -0.665907 \\\\\\\\\\n\\\\bottomrule\\n\\\\end{tabular}\\n'"
      ]
     },
     "execution_count": 45,
     "metadata": {},
     "output_type": "execute_result"
    }
   ],
   "source": [
    "array1 = ['B3LYP', 'B3LYP', 'M062X', 'M062X', 'PBE0', 'PBE0', 'HF', 'HF']\n",
    "array2 = ['SVP', 'TZVP', 'SVP', 'TZVP', 'SVP', 'TZVP', 'SVP', 'TZVP']\n",
    "tuples = list(zip(array1,array2))\n",
    "ind = pd.MultiIndex.from_tuples(tuples)\n",
    "df = pd.DataFrame(np.random.randn(8, 4),index=ind,columns=[\"rand1\",\"rand2\",\"rand3\",\"rand4\"])\n",
    "df.to_latex()"
   ]
  },
  {
   "cell_type": "code",
   "execution_count": 36,
   "metadata": {},
   "outputs": [
    {
     "data": {
      "text/html": [
       "<div>\n",
       "<style scoped>\n",
       "    .dataframe tbody tr th:only-of-type {\n",
       "        vertical-align: middle;\n",
       "    }\n",
       "\n",
       "    .dataframe tbody tr th {\n",
       "        vertical-align: top;\n",
       "    }\n",
       "\n",
       "    .dataframe thead tr th {\n",
       "        text-align: left;\n",
       "    }\n",
       "</style>\n",
       "<table border=\"1\" class=\"dataframe\">\n",
       "  <thead>\n",
       "    <tr>\n",
       "      <th></th>\n",
       "      <th colspan=\"2\" halign=\"left\">rand1</th>\n",
       "      <th colspan=\"2\" halign=\"left\">rand2</th>\n",
       "      <th colspan=\"2\" halign=\"left\">rand3</th>\n",
       "      <th colspan=\"2\" halign=\"left\">rand4</th>\n",
       "    </tr>\n",
       "    <tr>\n",
       "      <th></th>\n",
       "      <th>SVP</th>\n",
       "      <th>TZVP</th>\n",
       "      <th>SVP</th>\n",
       "      <th>TZVP</th>\n",
       "      <th>SVP</th>\n",
       "      <th>TZVP</th>\n",
       "      <th>SVP</th>\n",
       "      <th>TZVP</th>\n",
       "    </tr>\n",
       "  </thead>\n",
       "  <tbody>\n",
       "    <tr>\n",
       "      <th>B3LYP</th>\n",
       "      <td>-1.933450</td>\n",
       "      <td>-0.471100</td>\n",
       "      <td>-1.523689</td>\n",
       "      <td>-2.231547</td>\n",
       "      <td>-0.338915</td>\n",
       "      <td>0.002341</td>\n",
       "      <td>1.687569</td>\n",
       "      <td>0.324895</td>\n",
       "    </tr>\n",
       "    <tr>\n",
       "      <th>HF</th>\n",
       "      <td>0.643500</td>\n",
       "      <td>-1.784391</td>\n",
       "      <td>0.376782</td>\n",
       "      <td>0.686539</td>\n",
       "      <td>1.283433</td>\n",
       "      <td>-0.350220</td>\n",
       "      <td>0.378365</td>\n",
       "      <td>1.182443</td>\n",
       "    </tr>\n",
       "    <tr>\n",
       "      <th>M062X</th>\n",
       "      <td>0.035785</td>\n",
       "      <td>-0.115607</td>\n",
       "      <td>-2.295707</td>\n",
       "      <td>0.020500</td>\n",
       "      <td>0.541011</td>\n",
       "      <td>0.002253</td>\n",
       "      <td>1.052822</td>\n",
       "      <td>1.468703</td>\n",
       "    </tr>\n",
       "    <tr>\n",
       "      <th>PBE0</th>\n",
       "      <td>0.098404</td>\n",
       "      <td>0.282683</td>\n",
       "      <td>1.923725</td>\n",
       "      <td>0.395726</td>\n",
       "      <td>-2.514036</td>\n",
       "      <td>0.976085</td>\n",
       "      <td>0.698300</td>\n",
       "      <td>-1.118654</td>\n",
       "    </tr>\n",
       "  </tbody>\n",
       "</table>\n",
       "</div>"
      ],
      "text/plain": [
       "          rand1               rand2               rand3               rand4  \\\n",
       "            SVP      TZVP       SVP      TZVP       SVP      TZVP       SVP   \n",
       "B3LYP -1.933450 -0.471100 -1.523689 -2.231547 -0.338915  0.002341  1.687569   \n",
       "HF     0.643500 -1.784391  0.376782  0.686539  1.283433 -0.350220  0.378365   \n",
       "M062X  0.035785 -0.115607 -2.295707  0.020500  0.541011  0.002253  1.052822   \n",
       "PBE0   0.098404  0.282683  1.923725  0.395726 -2.514036  0.976085  0.698300   \n",
       "\n",
       "                 \n",
       "           TZVP  \n",
       "B3LYP  0.324895  \n",
       "HF     1.182443  \n",
       "M062X  1.468703  \n",
       "PBE0  -1.118654  "
      ]
     },
     "execution_count": 36,
     "metadata": {},
     "output_type": "execute_result"
    }
   ],
   "source": [
    "df1 = df.unstack()\n",
    "df1"
   ]
  },
  {
   "cell_type": "code",
   "execution_count": 47,
   "metadata": {},
   "outputs": [
    {
     "data": {
      "text/html": [
       "<div>\n",
       "<style scoped>\n",
       "    .dataframe tbody tr th:only-of-type {\n",
       "        vertical-align: middle;\n",
       "    }\n",
       "\n",
       "    .dataframe tbody tr th {\n",
       "        vertical-align: top;\n",
       "    }\n",
       "\n",
       "    .dataframe thead th {\n",
       "        text-align: right;\n",
       "    }\n",
       "</style>\n",
       "<table border=\"1\" class=\"dataframe\">\n",
       "  <thead>\n",
       "    <tr style=\"text-align: right;\">\n",
       "      <th></th>\n",
       "      <th></th>\n",
       "      <th>rand1</th>\n",
       "      <th>rand2</th>\n",
       "      <th>rand3</th>\n",
       "      <th>rand4</th>\n",
       "    </tr>\n",
       "    <tr>\n",
       "      <th>Method</th>\n",
       "      <th>Basis</th>\n",
       "      <th></th>\n",
       "      <th></th>\n",
       "      <th></th>\n",
       "      <th></th>\n",
       "    </tr>\n",
       "  </thead>\n",
       "  <tbody>\n",
       "    <tr>\n",
       "      <th rowspan=\"2\" valign=\"top\">B3LYP</th>\n",
       "      <th>SVP</th>\n",
       "      <td>-0.500725</td>\n",
       "      <td>0.442464</td>\n",
       "      <td>0.877651</td>\n",
       "      <td>0.855091</td>\n",
       "    </tr>\n",
       "    <tr>\n",
       "      <th>TZVP</th>\n",
       "      <td>0.594542</td>\n",
       "      <td>0.589846</td>\n",
       "      <td>1.180630</td>\n",
       "      <td>-0.188972</td>\n",
       "    </tr>\n",
       "    <tr>\n",
       "      <th rowspan=\"2\" valign=\"top\">M062X</th>\n",
       "      <th>SVP</th>\n",
       "      <td>-0.073749</td>\n",
       "      <td>-0.320843</td>\n",
       "      <td>-0.245528</td>\n",
       "      <td>-1.321795</td>\n",
       "    </tr>\n",
       "    <tr>\n",
       "      <th>TZVP</th>\n",
       "      <td>0.449212</td>\n",
       "      <td>-1.399994</td>\n",
       "      <td>1.332403</td>\n",
       "      <td>-0.009660</td>\n",
       "    </tr>\n",
       "    <tr>\n",
       "      <th rowspan=\"2\" valign=\"top\">PBE0</th>\n",
       "      <th>SVP</th>\n",
       "      <td>0.266755</td>\n",
       "      <td>-0.094182</td>\n",
       "      <td>-1.445592</td>\n",
       "      <td>1.915740</td>\n",
       "    </tr>\n",
       "    <tr>\n",
       "      <th>TZVP</th>\n",
       "      <td>-0.596479</td>\n",
       "      <td>0.006909</td>\n",
       "      <td>-1.844222</td>\n",
       "      <td>0.551327</td>\n",
       "    </tr>\n",
       "    <tr>\n",
       "      <th rowspan=\"2\" valign=\"top\">HF</th>\n",
       "      <th>SVP</th>\n",
       "      <td>0.865826</td>\n",
       "      <td>-1.272397</td>\n",
       "      <td>0.189112</td>\n",
       "      <td>0.233455</td>\n",
       "    </tr>\n",
       "    <tr>\n",
       "      <th>TZVP</th>\n",
       "      <td>-0.051898</td>\n",
       "      <td>0.513370</td>\n",
       "      <td>0.174451</td>\n",
       "      <td>-0.665907</td>\n",
       "    </tr>\n",
       "  </tbody>\n",
       "</table>\n",
       "</div>"
      ],
      "text/plain": [
       "                 rand1     rand2     rand3     rand4\n",
       "Method Basis                                        \n",
       "B3LYP  SVP   -0.500725  0.442464  0.877651  0.855091\n",
       "       TZVP   0.594542  0.589846  1.180630 -0.188972\n",
       "M062X  SVP   -0.073749 -0.320843 -0.245528 -1.321795\n",
       "       TZVP   0.449212 -1.399994  1.332403 -0.009660\n",
       "PBE0   SVP    0.266755 -0.094182 -1.445592  1.915740\n",
       "       TZVP  -0.596479  0.006909 -1.844222  0.551327\n",
       "HF     SVP    0.865826 -1.272397  0.189112  0.233455\n",
       "       TZVP  -0.051898  0.513370  0.174451 -0.665907"
      ]
     },
     "execution_count": 47,
     "metadata": {},
     "output_type": "execute_result"
    }
   ],
   "source": [
    "df.stack()\n",
    "df.index.names=['Method','Basis']\n",
    "df"
   ]
  },
  {
   "cell_type": "code",
   "execution_count": 69,
   "metadata": {},
   "outputs": [
    {
     "data": {
      "text/html": [
       "<div>\n",
       "<style scoped>\n",
       "    .dataframe tbody tr th:only-of-type {\n",
       "        vertical-align: middle;\n",
       "    }\n",
       "\n",
       "    .dataframe tbody tr th {\n",
       "        vertical-align: top;\n",
       "    }\n",
       "\n",
       "    .dataframe thead th {\n",
       "        text-align: right;\n",
       "    }\n",
       "</style>\n",
       "<table border=\"1\" class=\"dataframe\">\n",
       "  <thead>\n",
       "    <tr style=\"text-align: right;\">\n",
       "      <th></th>\n",
       "      <th>rand1</th>\n",
       "      <th>rand2</th>\n",
       "      <th>rand3</th>\n",
       "      <th>rand4</th>\n",
       "    </tr>\n",
       "    <tr>\n",
       "      <th>Basis</th>\n",
       "      <th></th>\n",
       "      <th></th>\n",
       "      <th></th>\n",
       "      <th></th>\n",
       "    </tr>\n",
       "  </thead>\n",
       "  <tbody>\n",
       "    <tr>\n",
       "      <th>SVP</th>\n",
       "      <td>-0.500725</td>\n",
       "      <td>0.442464</td>\n",
       "      <td>0.877651</td>\n",
       "      <td>0.855091</td>\n",
       "    </tr>\n",
       "    <tr>\n",
       "      <th>TZVP</th>\n",
       "      <td>0.594542</td>\n",
       "      <td>0.589846</td>\n",
       "      <td>1.180630</td>\n",
       "      <td>-0.188972</td>\n",
       "    </tr>\n",
       "  </tbody>\n",
       "</table>\n",
       "</div>"
      ],
      "text/plain": [
       "          rand1     rand2     rand3     rand4\n",
       "Basis                                        \n",
       "SVP   -0.500725  0.442464  0.877651  0.855091\n",
       "TZVP   0.594542  0.589846  1.180630 -0.188972"
      ]
     },
     "execution_count": 69,
     "metadata": {},
     "output_type": "execute_result"
    }
   ],
   "source": [
    "df.loc['B3LYP']"
   ]
  },
  {
   "cell_type": "code",
   "execution_count": 48,
   "metadata": {},
   "outputs": [
    {
     "data": {
      "text/html": [
       "<div>\n",
       "<style scoped>\n",
       "    .dataframe tbody tr th:only-of-type {\n",
       "        vertical-align: middle;\n",
       "    }\n",
       "\n",
       "    .dataframe tbody tr th {\n",
       "        vertical-align: top;\n",
       "    }\n",
       "\n",
       "    .dataframe thead tr th {\n",
       "        text-align: left;\n",
       "    }\n",
       "</style>\n",
       "<table border=\"1\" class=\"dataframe\">\n",
       "  <thead>\n",
       "    <tr>\n",
       "      <th></th>\n",
       "      <th colspan=\"2\" halign=\"left\">rand1</th>\n",
       "      <th colspan=\"2\" halign=\"left\">rand2</th>\n",
       "      <th colspan=\"2\" halign=\"left\">rand3</th>\n",
       "      <th colspan=\"2\" halign=\"left\">rand4</th>\n",
       "    </tr>\n",
       "    <tr>\n",
       "      <th></th>\n",
       "      <th>SVP</th>\n",
       "      <th>TZVP</th>\n",
       "      <th>SVP</th>\n",
       "      <th>TZVP</th>\n",
       "      <th>SVP</th>\n",
       "      <th>TZVP</th>\n",
       "      <th>SVP</th>\n",
       "      <th>TZVP</th>\n",
       "    </tr>\n",
       "  </thead>\n",
       "  <tbody>\n",
       "    <tr>\n",
       "      <th>B3LYP</th>\n",
       "      <td>-1.933450</td>\n",
       "      <td>-0.471100</td>\n",
       "      <td>-1.523689</td>\n",
       "      <td>-2.231547</td>\n",
       "      <td>-0.338915</td>\n",
       "      <td>0.002341</td>\n",
       "      <td>1.687569</td>\n",
       "      <td>0.324895</td>\n",
       "    </tr>\n",
       "    <tr>\n",
       "      <th>HF</th>\n",
       "      <td>0.643500</td>\n",
       "      <td>-1.784391</td>\n",
       "      <td>0.376782</td>\n",
       "      <td>0.686539</td>\n",
       "      <td>1.283433</td>\n",
       "      <td>-0.350220</td>\n",
       "      <td>0.378365</td>\n",
       "      <td>1.182443</td>\n",
       "    </tr>\n",
       "    <tr>\n",
       "      <th>M062X</th>\n",
       "      <td>0.035785</td>\n",
       "      <td>-0.115607</td>\n",
       "      <td>-2.295707</td>\n",
       "      <td>0.020500</td>\n",
       "      <td>0.541011</td>\n",
       "      <td>0.002253</td>\n",
       "      <td>1.052822</td>\n",
       "      <td>1.468703</td>\n",
       "    </tr>\n",
       "    <tr>\n",
       "      <th>PBE0</th>\n",
       "      <td>0.098404</td>\n",
       "      <td>0.282683</td>\n",
       "      <td>1.923725</td>\n",
       "      <td>0.395726</td>\n",
       "      <td>-2.514036</td>\n",
       "      <td>0.976085</td>\n",
       "      <td>0.698300</td>\n",
       "      <td>-1.118654</td>\n",
       "    </tr>\n",
       "  </tbody>\n",
       "</table>\n",
       "</div>"
      ],
      "text/plain": [
       "          rand1               rand2               rand3               rand4  \\\n",
       "            SVP      TZVP       SVP      TZVP       SVP      TZVP       SVP   \n",
       "B3LYP -1.933450 -0.471100 -1.523689 -2.231547 -0.338915  0.002341  1.687569   \n",
       "HF     0.643500 -1.784391  0.376782  0.686539  1.283433 -0.350220  0.378365   \n",
       "M062X  0.035785 -0.115607 -2.295707  0.020500  0.541011  0.002253  1.052822   \n",
       "PBE0   0.098404  0.282683  1.923725  0.395726 -2.514036  0.976085  0.698300   \n",
       "\n",
       "                 \n",
       "           TZVP  \n",
       "B3LYP  0.324895  \n",
       "HF     1.182443  \n",
       "M062X  1.468703  \n",
       "PBE0  -1.118654  "
      ]
     },
     "execution_count": 48,
     "metadata": {},
     "output_type": "execute_result"
    }
   ],
   "source": [
    "df1"
   ]
  },
  {
   "cell_type": "code",
   "execution_count": 38,
   "metadata": {},
   "outputs": [
    {
     "data": {
      "text/html": [
       "<div>\n",
       "<style scoped>\n",
       "    .dataframe tbody tr th:only-of-type {\n",
       "        vertical-align: middle;\n",
       "    }\n",
       "\n",
       "    .dataframe tbody tr th {\n",
       "        vertical-align: top;\n",
       "    }\n",
       "\n",
       "    .dataframe thead th {\n",
       "        text-align: right;\n",
       "    }\n",
       "</style>\n",
       "<table border=\"1\" class=\"dataframe\">\n",
       "  <thead>\n",
       "    <tr style=\"text-align: right;\">\n",
       "      <th></th>\n",
       "      <th></th>\n",
       "      <th>data1</th>\n",
       "      <th>data2</th>\n",
       "    </tr>\n",
       "  </thead>\n",
       "  <tbody>\n",
       "    <tr>\n",
       "      <th rowspan=\"2\" valign=\"top\">a</th>\n",
       "      <th>1</th>\n",
       "      <td>0.154238</td>\n",
       "      <td>0.556899</td>\n",
       "    </tr>\n",
       "    <tr>\n",
       "      <th>2</th>\n",
       "      <td>0.880367</td>\n",
       "      <td>0.063774</td>\n",
       "    </tr>\n",
       "    <tr>\n",
       "      <th rowspan=\"2\" valign=\"top\">b</th>\n",
       "      <th>1</th>\n",
       "      <td>0.686542</td>\n",
       "      <td>0.413547</td>\n",
       "    </tr>\n",
       "    <tr>\n",
       "      <th>2</th>\n",
       "      <td>0.742055</td>\n",
       "      <td>0.190510</td>\n",
       "    </tr>\n",
       "  </tbody>\n",
       "</table>\n",
       "</div>"
      ],
      "text/plain": [
       "        data1     data2\n",
       "a 1  0.154238  0.556899\n",
       "  2  0.880367  0.063774\n",
       "b 1  0.686542  0.413547\n",
       "  2  0.742055  0.190510"
      ]
     },
     "execution_count": 38,
     "metadata": {},
     "output_type": "execute_result"
    }
   ],
   "source": [
    "rand1 = pd.DataFrame(np.random.rand(4, 2),\n",
    "                  index=[['a', 'a', 'b', 'b'], [1, 2, 1, 2]],\n",
    "                  columns=['data1', 'data2'])\n",
    "rand1"
   ]
  },
  {
   "cell_type": "code",
   "execution_count": 39,
   "metadata": {},
   "outputs": [
    {
     "data": {
      "text/html": [
       "<div>\n",
       "<style scoped>\n",
       "    .dataframe tbody tr th:only-of-type {\n",
       "        vertical-align: middle;\n",
       "    }\n",
       "\n",
       "    .dataframe tbody tr th {\n",
       "        vertical-align: top;\n",
       "    }\n",
       "\n",
       "    .dataframe thead tr th {\n",
       "        text-align: left;\n",
       "    }\n",
       "</style>\n",
       "<table border=\"1\" class=\"dataframe\">\n",
       "  <thead>\n",
       "    <tr>\n",
       "      <th></th>\n",
       "      <th colspan=\"2\" halign=\"left\">data1</th>\n",
       "      <th colspan=\"2\" halign=\"left\">data2</th>\n",
       "    </tr>\n",
       "    <tr>\n",
       "      <th></th>\n",
       "      <th>1</th>\n",
       "      <th>2</th>\n",
       "      <th>1</th>\n",
       "      <th>2</th>\n",
       "    </tr>\n",
       "  </thead>\n",
       "  <tbody>\n",
       "    <tr>\n",
       "      <th>a</th>\n",
       "      <td>0.154238</td>\n",
       "      <td>0.880367</td>\n",
       "      <td>0.556899</td>\n",
       "      <td>0.063774</td>\n",
       "    </tr>\n",
       "    <tr>\n",
       "      <th>b</th>\n",
       "      <td>0.686542</td>\n",
       "      <td>0.742055</td>\n",
       "      <td>0.413547</td>\n",
       "      <td>0.190510</td>\n",
       "    </tr>\n",
       "  </tbody>\n",
       "</table>\n",
       "</div>"
      ],
      "text/plain": [
       "      data1               data2          \n",
       "          1         2         1         2\n",
       "a  0.154238  0.880367  0.556899  0.063774\n",
       "b  0.686542  0.742055  0.413547  0.190510"
      ]
     },
     "execution_count": 39,
     "metadata": {},
     "output_type": "execute_result"
    }
   ],
   "source": [
    "rand2 = rand1.unstack()\n",
    "rand2"
   ]
  },
  {
   "cell_type": "code",
   "execution_count": 40,
   "metadata": {},
   "outputs": [],
   "source": [
    "data = {('California', 2000): 33871648,\n",
    "        ('California', 2010): 37253956,\n",
    "        ('Texas', 2000): 20851820,\n",
    "        ('Texas', 2010): 25145561,\n",
    "        ('New York', 2000): 18976457,\n",
    "        ('New York', 2010): 19378102}\n",
    "test = pd.DataFrame(index=data)\n",
    "test['rand']=data.values()"
   ]
  },
  {
   "cell_type": "code",
   "execution_count": 41,
   "metadata": {},
   "outputs": [
    {
     "data": {
      "text/plain": [
       "MultiIndex([('a', 1),\n",
       "            ('a', 2),\n",
       "            ('b', 1),\n",
       "            ('b', 2)],\n",
       "           )"
      ]
     },
     "execution_count": 41,
     "metadata": {},
     "output_type": "execute_result"
    }
   ],
   "source": [
    "pd.MultiIndex.from_tuples([('a', 1), ('a', 2), ('b', 1), ('b', 2)])"
   ]
  },
  {
   "cell_type": "code",
   "execution_count": 42,
   "metadata": {},
   "outputs": [
    {
     "data": {
      "text/plain": [
       "MultiIndex([('a', 1),\n",
       "            ('a', 2),\n",
       "            ('b', 1),\n",
       "            ('b', 2)],\n",
       "           )"
      ]
     },
     "execution_count": 42,
     "metadata": {},
     "output_type": "execute_result"
    }
   ],
   "source": [
    "pd.MultiIndex.from_arrays([['a', 'a', 'b', 'b'], [1, 2, 1, 2]])"
   ]
  },
  {
   "cell_type": "code",
   "execution_count": 43,
   "metadata": {},
   "outputs": [
    {
     "data": {
      "text/plain": [
       "MultiIndex([('a', 1),\n",
       "            ('a', 2),\n",
       "            ('b', 1),\n",
       "            ('b', 2)],\n",
       "           )"
      ]
     },
     "execution_count": 43,
     "metadata": {},
     "output_type": "execute_result"
    }
   ],
   "source": [
    "pd.MultiIndex.from_product([['a', 'b'], [1, 2]])"
   ]
  },
  {
   "cell_type": "code",
   "execution_count": 44,
   "metadata": {},
   "outputs": [
    {
     "data": {
      "text/plain": [
       "MultiIndex([('a', 1),\n",
       "            ('a', 2),\n",
       "            ('b', 1),\n",
       "            ('b', 2)],\n",
       "           )"
      ]
     },
     "execution_count": 44,
     "metadata": {},
     "output_type": "execute_result"
    }
   ],
   "source": [
    "pd.MultiIndex(levels=[['a', 'b'], [1, 2]],codes=[[0, 0, 1, 1], [0, 1, 0, 1]])"
   ]
  },
  {
   "cell_type": "code",
   "execution_count": 79,
   "metadata": {},
   "outputs": [
    {
     "data": {
      "text/html": [
       "<div>\n",
       "<style scoped>\n",
       "    .dataframe tbody tr th:only-of-type {\n",
       "        vertical-align: middle;\n",
       "    }\n",
       "\n",
       "    .dataframe tbody tr th {\n",
       "        vertical-align: top;\n",
       "    }\n",
       "\n",
       "    .dataframe thead tr th {\n",
       "        text-align: left;\n",
       "    }\n",
       "</style>\n",
       "<table border=\"1\" class=\"dataframe\">\n",
       "  <thead>\n",
       "    <tr>\n",
       "      <th></th>\n",
       "      <th colspan=\"2\" halign=\"left\">B3LYP</th>\n",
       "      <th colspan=\"2\" halign=\"left\">PBE0</th>\n",
       "    </tr>\n",
       "    <tr>\n",
       "      <th></th>\n",
       "      <th>SVP</th>\n",
       "      <th>TZVP</th>\n",
       "      <th>SVP</th>\n",
       "      <th>TZVP</th>\n",
       "    </tr>\n",
       "  </thead>\n",
       "  <tbody>\n",
       "    <tr>\n",
       "      <th>rand1</th>\n",
       "      <td>0.684406</td>\n",
       "      <td>0.970513</td>\n",
       "      <td>0.739623</td>\n",
       "      <td>0.597381</td>\n",
       "    </tr>\n",
       "    <tr>\n",
       "      <th>rand2</th>\n",
       "      <td>0.480527</td>\n",
       "      <td>0.451124</td>\n",
       "      <td>0.065774</td>\n",
       "      <td>0.544722</td>\n",
       "    </tr>\n",
       "    <tr>\n",
       "      <th>rand3</th>\n",
       "      <td>0.158292</td>\n",
       "      <td>0.998643</td>\n",
       "      <td>0.508017</td>\n",
       "      <td>0.059050</td>\n",
       "    </tr>\n",
       "    <tr>\n",
       "      <th>rand4</th>\n",
       "      <td>0.169953</td>\n",
       "      <td>0.329009</td>\n",
       "      <td>0.864227</td>\n",
       "      <td>0.652445</td>\n",
       "    </tr>\n",
       "    <tr>\n",
       "      <th>rand5</th>\n",
       "      <td>0.704826</td>\n",
       "      <td>0.056943</td>\n",
       "      <td>0.593130</td>\n",
       "      <td>0.394485</td>\n",
       "    </tr>\n",
       "    <tr>\n",
       "      <th>rand6</th>\n",
       "      <td>0.760356</td>\n",
       "      <td>0.157149</td>\n",
       "      <td>0.468753</td>\n",
       "      <td>0.046347</td>\n",
       "    </tr>\n",
       "  </tbody>\n",
       "</table>\n",
       "</div>"
      ],
      "text/plain": [
       "          B3LYP                PBE0          \n",
       "            SVP      TZVP       SVP      TZVP\n",
       "rand1  0.684406  0.970513  0.739623  0.597381\n",
       "rand2  0.480527  0.451124  0.065774  0.544722\n",
       "rand3  0.158292  0.998643  0.508017  0.059050\n",
       "rand4  0.169953  0.329009  0.864227  0.652445\n",
       "rand5  0.704826  0.056943  0.593130  0.394485\n",
       "rand6  0.760356  0.157149  0.468753  0.046347"
      ]
     },
     "execution_count": 79,
     "metadata": {},
     "output_type": "execute_result"
    }
   ],
   "source": [
    "data=np.random.rand(6,4)\n",
    "cols=pd.MultiIndex.from_arrays([['B3LYP','B3LYP','PBE0','PBE0'],['SVP','TZVP','SVP','TZVP']])\n",
    "datacol = pd.DataFrame(data,columns=cols,index=[\"rand\" + str(i) for i in range(1,7)])\n",
    "datacol"
   ]
  },
  {
   "cell_type": "code",
   "execution_count": 97,
   "metadata": {},
   "outputs": [
    {
     "data": {
      "text/html": [
       "<div>\n",
       "<style scoped>\n",
       "    .dataframe tbody tr th:only-of-type {\n",
       "        vertical-align: middle;\n",
       "    }\n",
       "\n",
       "    .dataframe tbody tr th {\n",
       "        vertical-align: top;\n",
       "    }\n",
       "\n",
       "    .dataframe thead tr th {\n",
       "        text-align: left;\n",
       "    }\n",
       "</style>\n",
       "<table border=\"1\" class=\"dataframe\">\n",
       "  <thead>\n",
       "    <tr>\n",
       "      <th></th>\n",
       "      <th>B3LYP</th>\n",
       "      <th>PBE0</th>\n",
       "    </tr>\n",
       "    <tr>\n",
       "      <th></th>\n",
       "      <th>SVP</th>\n",
       "      <th>TZVP</th>\n",
       "    </tr>\n",
       "  </thead>\n",
       "  <tbody>\n",
       "    <tr>\n",
       "      <th>rand1</th>\n",
       "      <td>0.684406</td>\n",
       "      <td>0.597381</td>\n",
       "    </tr>\n",
       "    <tr>\n",
       "      <th>rand2</th>\n",
       "      <td>0.480527</td>\n",
       "      <td>0.544722</td>\n",
       "    </tr>\n",
       "    <tr>\n",
       "      <th>rand3</th>\n",
       "      <td>0.158292</td>\n",
       "      <td>0.059050</td>\n",
       "    </tr>\n",
       "    <tr>\n",
       "      <th>rand4</th>\n",
       "      <td>0.169953</td>\n",
       "      <td>0.652445</td>\n",
       "    </tr>\n",
       "    <tr>\n",
       "      <th>rand5</th>\n",
       "      <td>0.704826</td>\n",
       "      <td>0.394485</td>\n",
       "    </tr>\n",
       "    <tr>\n",
       "      <th>rand6</th>\n",
       "      <td>0.760356</td>\n",
       "      <td>0.046347</td>\n",
       "    </tr>\n",
       "  </tbody>\n",
       "</table>\n",
       "</div>"
      ],
      "text/plain": [
       "          B3LYP      PBE0\n",
       "            SVP      TZVP\n",
       "rand1  0.684406  0.597381\n",
       "rand2  0.480527  0.544722\n",
       "rand3  0.158292  0.059050\n",
       "rand4  0.169953  0.652445\n",
       "rand5  0.704826  0.394485\n",
       "rand6  0.760356  0.046347"
      ]
     },
     "execution_count": 97,
     "metadata": {},
     "output_type": "execute_result"
    }
   ],
   "source": [
    "datacol[[['B3LYP','SVP'],['PBE0','TZVP']]]"
   ]
  },
  {
   "cell_type": "code",
   "execution_count": null,
   "metadata": {},
   "outputs": [],
   "source": []
  }
 ],
 "metadata": {
  "kernelspec": {
   "display_name": "Python 3",
   "language": "python",
   "name": "python3"
  },
  "language_info": {
   "codemirror_mode": {
    "name": "ipython",
    "version": 3
   },
   "file_extension": ".py",
   "mimetype": "text/x-python",
   "name": "python",
   "nbconvert_exporter": "python",
   "pygments_lexer": "ipython3",
   "version": "3.6.9"
  }
 },
 "nbformat": 4,
 "nbformat_minor": 2
}
